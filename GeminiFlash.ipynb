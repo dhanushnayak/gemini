{
  "nbformat": 4,
  "nbformat_minor": 0,
  "metadata": {
    "colab": {
      "provenance": [],
      "authorship_tag": "ABX9TyP3QxZmfHRCWRzNyEkPSOup",
      "include_colab_link": true
    },
    "kernelspec": {
      "name": "python3",
      "display_name": "Python 3"
    },
    "language_info": {
      "name": "python"
    }
  },
  "cells": [
    {
      "cell_type": "markdown",
      "metadata": {
        "id": "view-in-github",
        "colab_type": "text"
      },
      "source": [
        "<a href=\"https://colab.research.google.com/github/dhanushnayak/gemini/blob/main/GeminiFlash.ipynb\" target=\"_parent\"><img src=\"https://colab.research.google.com/assets/colab-badge.svg\" alt=\"Open In Colab\"/></a>"
      ]
    },
    {
      "cell_type": "code",
      "execution_count": 8,
      "metadata": {
        "id": "7eG_B8bGLVmG"
      },
      "outputs": [],
      "source": [
        "import os\n",
        "import google.generativeai as genai"
      ]
    },
    {
      "cell_type": "code",
      "source": [
        "from google.colab import userdata"
      ],
      "metadata": {
        "id": "1zc_-WSEUWM1"
      },
      "execution_count": 4,
      "outputs": []
    },
    {
      "cell_type": "code",
      "source": [
        "genai.configure(api_key=userdata.get('GOOGLE_API'))"
      ],
      "metadata": {
        "id": "G75QP507UWTp"
      },
      "execution_count": 10,
      "outputs": []
    },
    {
      "cell_type": "code",
      "source": [
        "for m in genai.list_models():\n",
        "  print(m.name,m.description)"
      ],
      "metadata": {
        "colab": {
          "base_uri": "https://localhost:8080/",
          "height": 287
        },
        "id": "cM7RKRmtVtK4",
        "outputId": "c1de443f-7bcb-4294-8562-bd7276588e6a"
      },
      "execution_count": 13,
      "outputs": [
        {
          "output_type": "stream",
          "name": "stdout",
          "text": [
            "models/chat-bison-001 A legacy text-only model optimized for chat conversations\n",
            "models/text-bison-001 A legacy model that understands text and generates text as an output\n",
            "models/embedding-gecko-001 Obtain a distributed representation of a text.\n",
            "models/gemini-1.0-pro The best model for scaling across a wide range of tasks\n",
            "models/gemini-1.0-pro-001 The best model for scaling across a wide range of tasks. This is a stable model that supports tuning.\n",
            "models/gemini-1.0-pro-latest The best model for scaling across a wide range of tasks. This is the latest model.\n",
            "models/gemini-1.0-pro-vision-latest The best image understanding model to handle a broad range of applications\n",
            "models/gemini-1.5-flash-latest Fast and versatile multimodal model for scaling across diverse tasks\n",
            "models/gemini-1.5-pro-latest Mid-size multimodal model that supports up to 1 million tokens\n",
            "models/gemini-pro The best model for scaling across a wide range of tasks\n",
            "models/gemini-pro-vision The best image understanding model to handle a broad range of applications\n",
            "models/embedding-001 Obtain a distributed representation of a text.\n",
            "models/text-embedding-004 Obtain a distributed representation of a text.\n",
            "models/aqa Model trained to return answers to questions that are grounded in provided sources, along with estimating answerable probability.\n"
          ]
        }
      ]
    },
    {
      "cell_type": "code",
      "source": [
        "model = genai.GenerativeModel(\"models/gemini-1.5-flash-latest\")"
      ],
      "metadata": {
        "id": "CFpOiqtZVtOY"
      },
      "execution_count": 14,
      "outputs": []
    },
    {
      "cell_type": "code",
      "source": [],
      "metadata": {
        "id": "y8OyKbFlVtRT"
      },
      "execution_count": 15,
      "outputs": []
    },
    {
      "cell_type": "code",
      "source": [],
      "metadata": {
        "id": "2eSHwbDCVtUZ"
      },
      "execution_count": null,
      "outputs": []
    }
  ]
}